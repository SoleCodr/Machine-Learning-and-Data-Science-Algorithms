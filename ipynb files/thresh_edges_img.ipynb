{
 "cells": [
  {
   "cell_type": "code",
   "execution_count": 1,
   "metadata": {},
   "outputs": [
    {
     "data": {
      "text/plain": [
       "-1"
      ]
     },
     "execution_count": 1,
     "metadata": {},
     "output_type": "execute_result"
    }
   ],
   "source": [
    "import cv2\n",
    "image= cv2.imread(\"abc.jpg\",1)\n",
    "cv2.imshow(\"Image\", image)\n",
    "cv2.waitKey(0)\n",
    "\n",
    "#convert the image to grayscale\n",
    "gray= cv2.cvtColor(image, cv2.COLOR_BGR2GRAY)\n",
    "cv2.imshow('Gray', gray)\n",
    "#print(gray)\n",
    "cv2.waitKey(0)"
   ]
  },
  {
   "cell_type": "code",
   "execution_count": 3,
   "metadata": {},
   "outputs": [
    {
     "data": {
      "text/plain": [
       "-1"
      ]
     },
     "execution_count": 3,
     "metadata": {},
     "output_type": "execute_result"
    }
   ],
   "source": [
    "#applying edge detection we can find the outlines of objects in images\n",
    "edged= cv2.Canny(gray, 60, 255)\n",
    "cv2.imshow(\"Edged\", edged)\n",
    "cv2.waitKey(0)\n"
   ]
  },
  {
   "cell_type": "code",
   "execution_count": null,
   "metadata": {},
   "outputs": [],
   "source": [
    "from imutils import contours\n",
    "import imutils\n",
    "import numpy\n",
    "import cv2\n",
    "#threshold the image by setting all pixel values\n",
    "#less than 225\n",
    "#(white;foreground) and all pixel values\n",
    "# >= 225 t0 255\n",
    "# (black; background), thereby segmenting the image\n",
    "\n",
    "thresh= cv2.threshold(gray, 225, 255, cv2.THRESH_BINARY_INV)[1]\n",
    "cv2.imshow('Thresh', thresh)\n",
    "cv2.waitKey(0)\n",
    "#find contours(i.e., outlines) of the foreground objects in the thresholded image\n",
    "cnts= cv2.findContours(thresh.copy(), cv2.RETR_EXTERNAL,cv2.CHAIN_APPROX_SIMPLE)\n",
    "output = image.copy()\n",
    "\n",
    "#loop over the contours\n",
    "for c in cnts:\n",
    "    #draw each contouron the output image with a 3px thick colored outline, then display\n",
    "    #the output contours  one at a time\n",
    "    #ctr= numpy.array(c).reshape((-1,1,2)).astype(numpy.int32)\n",
    "    ctr=imutils.grab_contours(c)\n",
    "    cv2.drawContours(output,[ctr],-1,(0,255,0),3)\n",
    "    cv2.imshow(\"Contours\", output)\n",
    "    cv2.waitKey(0)\n",
    "#draw the total number of contours found in purple\n",
    "text= \"I found {} objects!\".format(len(cnts))\n",
    "cv2.putText(output, text, (10,25), cv2.FRONT_HERSHY_SIMPLEX, 0.7,(240,0,159),2)\n",
    "cv2.imshow(\"Contours\", output)\n",
    "cv2.waitKey(0)\n"
   ]
  }
 ],
 "metadata": {
  "kernelspec": {
   "display_name": "Python 3",
   "language": "python",
   "name": "python3"
  },
  "language_info": {
   "codemirror_mode": {
    "name": "ipython",
    "version": 3
   },
   "file_extension": ".py",
   "mimetype": "text/x-python",
   "name": "python",
   "nbconvert_exporter": "python",
   "pygments_lexer": "ipython3",
   "version": "3.7.0"
  }
 },
 "nbformat": 4,
 "nbformat_minor": 2
}
