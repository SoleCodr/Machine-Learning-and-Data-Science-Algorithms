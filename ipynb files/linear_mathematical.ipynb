{
 "cells": [
  {
   "cell_type": "code",
   "execution_count": 1,
   "metadata": {},
   "outputs": [
    {
     "name": "stdout",
     "output_type": "stream",
     "text": [
      "[1, 2, 4, 3, 5]\n",
      "[1, 3, 3, 2, 5]\n",
      "x stats: mean=3.000 variance=2.000\n",
      "y stats: mean=2.800 variance=1.760\n"
     ]
    }
   ],
   "source": [
    "def mean(values):\n",
    "    return sum(values)/(len(values))\n",
    "\n",
    "def variance(values, mean):\n",
    "    return sum([(x-mean)**2 for x in values])/ len(values)\n",
    "\n",
    "dataset= [[1,1],[2,3],[4,3],[3,2],[5,5]]\n",
    "x = [row[0] for row in dataset]\n",
    "print(x)\n",
    "y = [row[1] for row in dataset]\n",
    "print(y)\n",
    "mean_x, mean_y = mean(x), mean(y)\n",
    "variance_x, variance_y= variance(x, mean_x), variance(y, mean_y)\n",
    "\n",
    "print('x stats: mean=%.3f variance=%.3f'%(mean_x, variance_x))\n",
    "print('y stats: mean=%.3f variance=%.3f'%(mean_y, variance_y))"
   ]
  },
  {
   "cell_type": "code",
   "execution_count": 2,
   "metadata": {},
   "outputs": [],
   "source": [
    "\n",
    "#Covariance= sum((x(i)-mean(x))*(y(i)-mean(y))))/len(value)\n",
    "def covariance(x, mean_x, y, mean_y):\n",
    "    covar= 0.0\n",
    "    for i in range(len(x)):\n",
    "        covar+=(x[i]- mean_x)*(y[i]-mean_y)\n",
    "    return covar/ len(x)\n",
    "        "
   ]
  },
  {
   "cell_type": "code",
   "execution_count": 3,
   "metadata": {},
   "outputs": [
    {
     "name": "stdout",
     "output_type": "stream",
     "text": [
      "Covariance: 1.60\n"
     ]
    }
   ],
   "source": [
    "dataset = [[1,1],[2,3],[4,3],[3,2],[5,5]]\n",
    "x= [row[0] for row in dataset]\n",
    "y= [row[1] for row in dataset]\n",
    "\n",
    "mean_x, mean_y - mean(x), mean(y)\n",
    "covar = covariance(x, mean_x, y, mean_y)\n",
    "print('Covariance: %.2f' %(covar))"
   ]
  },
  {
   "cell_type": "code",
   "execution_count": 4,
   "metadata": {},
   "outputs": [],
   "source": [
    "#calculate coefficient\n",
    "#B1 = sum((x(i)-mean(x))*(y(i)-mean(y)))/sum((x(i)-mean(x))^2)\n",
    "\n",
    "def coefficients(dataset):\n",
    "    x= [row[0] for row in dataset]\n",
    "    y= [row[1] for row in dataset]\n",
    "    x_mean, y_mean = mean(x), mean(y)\n",
    "    b1= covariance(x, x_mean, y, y_mean)/ variance(x, x_mean)\n",
    "    b0= y_mean - b1 * x_mean\n",
    "    return[b0,b1]"
   ]
  },
  {
   "cell_type": "code",
   "execution_count": 5,
   "metadata": {},
   "outputs": [
    {
     "name": "stdout",
     "output_type": "stream",
     "text": [
      "Coefficients: B0=0.400, B1=0.800\n"
     ]
    }
   ],
   "source": [
    "#calculate coefficient\n",
    "dataset = [[1,1],[2,3],[4,3],[3,2],[5,5]]\n",
    "b0, b1 = coefficients(dataset)\n",
    "print('Coefficients: B0=%.3f, B1=%.3f'%(b0, b1))\n"
   ]
  },
  {
   "cell_type": "code",
   "execution_count": 1,
   "metadata": {},
   "outputs": [
    {
     "data": {
      "text/html": [
       "<div>\n",
       "<style scoped>\n",
       "    .dataframe tbody tr th:only-of-type {\n",
       "        vertical-align: middle;\n",
       "    }\n",
       "\n",
       "    .dataframe tbody tr th {\n",
       "        vertical-align: top;\n",
       "    }\n",
       "\n",
       "    .dataframe thead th {\n",
       "        text-align: right;\n",
       "    }\n",
       "</style>\n",
       "<table border=\"1\" class=\"dataframe\">\n",
       "  <thead>\n",
       "    <tr style=\"text-align: right;\">\n",
       "      <th></th>\n",
       "      <th>SL</th>\n",
       "      <th>SW</th>\n",
       "      <th>PL</th>\n",
       "      <th>PW</th>\n",
       "      <th>class</th>\n",
       "    </tr>\n",
       "  </thead>\n",
       "  <tbody>\n",
       "    <tr>\n",
       "      <th>0</th>\n",
       "      <td>sepal.length</td>\n",
       "      <td>sepal.width</td>\n",
       "      <td>petal.length</td>\n",
       "      <td>petal.width</td>\n",
       "      <td>variety</td>\n",
       "    </tr>\n",
       "    <tr>\n",
       "      <th>1</th>\n",
       "      <td>5.1</td>\n",
       "      <td>3.5</td>\n",
       "      <td>1.4</td>\n",
       "      <td>.2</td>\n",
       "      <td>Setosa</td>\n",
       "    </tr>\n",
       "    <tr>\n",
       "      <th>2</th>\n",
       "      <td>4.9</td>\n",
       "      <td>3</td>\n",
       "      <td>1.4</td>\n",
       "      <td>.2</td>\n",
       "      <td>Setosa</td>\n",
       "    </tr>\n",
       "    <tr>\n",
       "      <th>3</th>\n",
       "      <td>4.7</td>\n",
       "      <td>3.2</td>\n",
       "      <td>1.3</td>\n",
       "      <td>.2</td>\n",
       "      <td>Setosa</td>\n",
       "    </tr>\n",
       "    <tr>\n",
       "      <th>4</th>\n",
       "      <td>4.6</td>\n",
       "      <td>3.1</td>\n",
       "      <td>1.5</td>\n",
       "      <td>.2</td>\n",
       "      <td>Setosa</td>\n",
       "    </tr>\n",
       "  </tbody>\n",
       "</table>\n",
       "</div>"
      ],
      "text/plain": [
       "             SL           SW            PL           PW    class\n",
       "0  sepal.length  sepal.width  petal.length  petal.width  variety\n",
       "1           5.1          3.5           1.4           .2   Setosa\n",
       "2           4.9            3           1.4           .2   Setosa\n",
       "3           4.7          3.2           1.3           .2   Setosa\n",
       "4           4.6          3.1           1.5           .2   Setosa"
      ]
     },
     "execution_count": 1,
     "metadata": {},
     "output_type": "execute_result"
    }
   ],
   "source": [
    "import pandas as pd\n",
    "data= pd.read_csv('iris.csv', names=['SL','SW','PL','PW','class'])\n",
    "data.head()\n"
   ]
  },
  {
   "cell_type": "code",
   "execution_count": null,
   "metadata": {},
   "outputs": [],
   "source": [
    "def simple_linear_regression(train, test):\n",
    "    "
   ]
  }
 ],
 "metadata": {
  "kernelspec": {
   "display_name": "Python 3",
   "language": "python",
   "name": "python3"
  },
  "language_info": {
   "codemirror_mode": {
    "name": "ipython",
    "version": 3
   },
   "file_extension": ".py",
   "mimetype": "text/x-python",
   "name": "python",
   "nbconvert_exporter": "python",
   "pygments_lexer": "ipython3",
   "version": "3.7.0"
  }
 },
 "nbformat": 4,
 "nbformat_minor": 2
}
