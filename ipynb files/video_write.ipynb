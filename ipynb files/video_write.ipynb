{
 "cells": [
  {
   "cell_type": "code",
   "execution_count": 3,
   "metadata": {},
   "outputs": [],
   "source": [
    "import cv2\n",
    "cam=cv2.VideoCapture(0)\n",
    "fourcc = cv2.VideoWriter_fourcc(*'XVID')   #takes in camera info .. *XVID - all type of values\n",
    "out= cv2.VideoWriter('video12.avi',fourcc, 15.0, (640,480))\n",
    "while cam.isOpened():\n",
    "    i, frame = cam.read()\n",
    "    \n",
    "    if i:\n",
    "        gray = cv2.cvtColor(frame, cv2.IMREAD_COLOR)\n",
    "        out.write(frame)\n",
    "        cv2.imshow('Title', gray)\n",
    "    if cv2.waitKey(1) & 0xFF == ord('q'):\n",
    "        break\n",
    "cam.release()\n",
    "cv2.destroyAllWindows()"
   ]
  }
 ],
 "metadata": {
  "kernelspec": {
   "display_name": "Python 3",
   "language": "python",
   "name": "python3"
  },
  "language_info": {
   "codemirror_mode": {
    "name": "ipython",
    "version": 3
   },
   "file_extension": ".py",
   "mimetype": "text/x-python",
   "name": "python",
   "nbconvert_exporter": "python",
   "pygments_lexer": "ipython3",
   "version": "3.7.0"
  }
 },
 "nbformat": 4,
 "nbformat_minor": 2
}
