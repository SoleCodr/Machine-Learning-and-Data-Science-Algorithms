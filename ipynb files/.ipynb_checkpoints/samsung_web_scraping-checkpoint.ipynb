{
 "cells": [
  {
   "cell_type": "code",
   "execution_count": 6,
   "metadata": {},
   "outputs": [],
   "source": [
    "from bs4 import BeautifulSoup as soup\n",
    "from urllib.request import urlopen as uReq"
   ]
  },
  {
   "cell_type": "code",
   "execution_count": 7,
   "metadata": {},
   "outputs": [],
   "source": [
    "my_url= 'https://www.flipkart.com/search?q=samsung+phone+under+15000&sid=tyy%2C4io&as=on&as-show=on&otracker=AS_QueryStore_OrganicAutoSuggest_0_22&otracker1=AS_QueryStore_OrganicAutoSuggest_0_22&as-pos=0&as-type=RECENT&as-backfill=on'"
   ]
  },
  {
   "cell_type": "code",
   "execution_count": 17,
   "metadata": {},
   "outputs": [
    {
     "name": "stdout",
     "output_type": "stream",
     "text": [
      "₹11,999₹12,9006% offNo Cost EMIUpto ₹10,800 Off on Exchange\n"
     ]
    }
   ],
   "source": [
    "uClient = uReq(my_url)\n",
    "page_html = uClient.read()\n",
    "uClient.close()\n",
    "page_soup = soup(page_html,'html.parser')\n",
    "containers=page_soup.findAll(\"div\",{\"class\":\"_1UoZlX\"})\n",
    "#print(soup.prettify(containers[0]))\n",
    "container=containers[0]\n",
    "#print(container.div.img[\"alt\"])\n",
    "price=container.findAll(\"div\",{\"class\":\"col col-5-12 _2o7WAb\"})\n",
    "#print(price[0].text)\n",
    "ratings=container.findAll(\"div\",{\"class\":\"niH0FQ\"})"
   ]
  },
  {
   "cell_type": "code",
   "execution_count": null,
   "metadata": {},
   "outputs": [],
   "source": []
  }
 ],
 "metadata": {
  "kernelspec": {
   "display_name": "Python 3",
   "language": "python",
   "name": "python3"
  },
  "language_info": {
   "codemirror_mode": {
    "name": "ipython",
    "version": 3
   },
   "file_extension": ".py",
   "mimetype": "text/x-python",
   "name": "python",
   "nbconvert_exporter": "python",
   "pygments_lexer": "ipython3",
   "version": "3.7.0"
  }
 },
 "nbformat": 4,
 "nbformat_minor": 2
}
