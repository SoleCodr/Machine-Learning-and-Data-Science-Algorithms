{
 "cells": [
  {
   "attachments": {
    "naive.png": {
     "image/png": "[encoded data removed]"
    }
   },
   "cell_type": "markdown",
   "metadata": {},
   "source": [
    "consider the given dataset apply Naive Bayes Algorithm and predict that if a fruit has the following properties then which types of fruit has the following properties and then which types of fruit it is:\n",
    "\n",
    "![naive.png](attachment:naive.png)     \n",
    "P(A|B) probability of (A) when (B) ia true\n",
    "\n",
    "P(A|B)=P(B|A)*P(A)/P(B)\n",
    "\n",
    "1. fruit is types mango\n",
    "P(X|mango)=P(Y|mango)*P(S|mango)*P(L|mango)=0\n",
    "P(Yellow|mango)=P(mango|yellow)*P(Yellow)/P(mango)\n",
    "               =(350/800)*800/800"
   ]
  },
  {
   "cell_type": "code",
   "execution_count": 2,
   "metadata": {},
   "outputs": [],
   "source": [
    "#import the iris dataset\n",
    "from sklearn.datasets import load_iris\n",
    "iris = load_iris()\n",
    "#store the feature matrix (X) and response vector (y)\n",
    "X= iris.data\n",
    "y= iris.target"
   ]
  },
  {
   "cell_type": "code",
   "execution_count": 3,
   "metadata": {},
   "outputs": [],
   "source": [
    "#splitting X and y into training and testing sets\n",
    "from sklearn.model_selection import train_test_split\n",
    "X_train, X_test, Y_train,Y_test = train_test_split(X,y,test_size=0.2, random_state=0 )"
   ]
  },
  {
   "cell_type": "code",
   "execution_count": null,
   "metadata": {},
   "outputs": [],
   "source": [
    "from sklearn.naive_bayes import GaussianNB\n",
    "gnb= GaussianNB()\n",
    "gnb.fit(X_train, y_train)\n",
    "\n",
    "\n",
    "#making predictions on the testing set \n",
    "\n"
   ]
  }
 ],
 "metadata": {
  "kernelspec": {
   "display_name": "Python 3",
   "language": "python",
   "name": "python3"
  },
  "language_info": {
   "codemirror_mode": {
    "name": "ipython",
    "version": 3
   },
   "file_extension": ".py",
   "mimetype": "text/x-python",
   "name": "python",
   "nbconvert_exporter": "python",
   "pygments_lexer": "ipython3",
   "version": "3.7.0"
  }
 },
 "nbformat": 4,
 "nbformat_minor": 2
}
