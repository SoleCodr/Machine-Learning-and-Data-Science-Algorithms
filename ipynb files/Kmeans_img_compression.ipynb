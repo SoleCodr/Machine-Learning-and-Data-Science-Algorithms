{
 "cells": [
  {
   "cell_type": "code",
   "execution_count": 2,
   "metadata": {},
   "outputs": [],
   "source": [
    "from sklearn.cluster import KMeans\n",
    "import numpy as np\n",
    "from PIL import Image\n",
    "import matplotlib.image as mpimg\n",
    "import matplotlib.pyplot as plt\n"
   ]
  },
  {
   "cell_type": "code",
   "execution_count": 3,
   "metadata": {},
   "outputs": [
    {
     "name": "stdout",
     "output_type": "stream",
     "text": [
      "(582, 600, 4)\n"
     ]
    },
    {
     "data": {
      "text/plain": [
       "array([[[255, 255, 255,   0],\n",
       "        [255, 255, 255,   0],\n",
       "        [255, 255, 255,   0],\n",
       "        ...,\n",
       "        [255, 248, 232,   0],\n",
       "        [255, 248, 232,   0],\n",
       "        [255, 248, 232,   0]],\n",
       "\n",
       "       [[255, 255, 255,   0],\n",
       "        [255, 255, 255,   0],\n",
       "        [255, 255, 255,   0],\n",
       "        ...,\n",
       "        [255, 248, 232,   0],\n",
       "        [255, 248, 232,   0],\n",
       "        [255, 248, 232,   0]]], dtype=uint8)"
      ]
     },
     "execution_count": 3,
     "metadata": {},
     "output_type": "execute_result"
    }
   ],
   "source": [
    "img= Image.open('bird.png')\n",
    "img_np= np.asarray(img)\n",
    "print(img_np.shape)\n",
    "img_np[0:2]"
   ]
  },
  {
   "cell_type": "code",
   "execution_count": 4,
   "metadata": {},
   "outputs": [
    {
     "data": {
      "text/plain": [
       "(582, 600, 4)"
      ]
     },
     "execution_count": 4,
     "metadata": {},
     "output_type": "execute_result"
    }
   ],
   "source": [
    "img_np.shape"
   ]
  },
  {
   "cell_type": "code",
   "execution_count": 18,
   "metadata": {},
   "outputs": [
    {
     "data": {
      "text/plain": [
       "(349200, 4)"
      ]
     },
     "execution_count": 18,
     "metadata": {},
     "output_type": "execute_result"
    }
   ],
   "source": [
    "pixels=img_np.reshape(img_np.shape[0]*img_np.shape[1],img_np.shape[2])\n",
    "pixels.shape"
   ]
  },
  {
   "cell_type": "code",
   "execution_count": null,
   "metadata": {},
   "outputs": [],
   "source": [
    "model=KMeans(n_clusters=64)\n",
    "model.fit(pixels)\n"
   ]
  },
  {
   "cell_type": "code",
   "execution_count": null,
   "metadata": {},
   "outputs": [],
   "source": [
    "pixels_centroids=model.labels_\n",
    "cluster_centers=model.cluster_centers_\n",
    "pixels_centroids"
   ]
  },
  {
   "cell_type": "code",
   "execution_count": null,
   "metadata": {},
   "outputs": [],
   "source": [
    "cluster_centers"
   ]
  },
  {
   "cell_type": "code",
   "execution_count": null,
   "metadata": {},
   "outputs": [],
   "source": [
    "final=np.zeros((pixels_centroids.shape[0],3))"
   ]
  },
  {
   "cell_type": "code",
   "execution_count": null,
   "metadata": {},
   "outputs": [],
   "source": [
    "final.shape"
   ]
  },
  {
   "cell_type": "code",
   "execution_count": null,
   "metadata": {},
   "outputs": [],
   "source": [
    "for cluster_no in range(64):\n",
    "    final[pixels_centroids==cluster_no]=cluster_centers[cluster_no]\n",
    "final[0:5]"
   ]
  },
  {
   "cell_type": "code",
   "execution_count": null,
   "metadata": {},
   "outputs": [],
   "source": [
    "comp_image=final.reshape(img_np.shape[0],img_np.shape[1],3)\n",
    "comp_image.shape"
   ]
  },
  {
   "cell_type": "code",
   "execution_count": null,
   "metadata": {},
   "outputs": [],
   "source": [
    "comp_image=Image.fromarray(np.uint8(comp_image))\n",
    "comp_image.save('bird_compressed.png')"
   ]
  },
  {
   "cell_type": "code",
   "execution_count": null,
   "metadata": {},
   "outputs": [],
   "source": [
    "fname='bird.png'\n",
    "fname1='bird_compressed.png'\n",
    "img1=mpimg.imread(fname,0)\n",
    "img2=mpimg.imread(fname1,0)\n",
    "fig,(ax1,ax2)=plt.subplots(1,2,figsize=(20,20))\n",
    "ax1.imshow(img1)\n",
    "ax1.set_title('Original image')\n",
    "ax2.imshow(img2)\n",
    "ax2.set_title('Compressed Image')\n",
    "plt.show()"
   ]
  },
  {
   "cell_type": "code",
   "execution_count": null,
   "metadata": {},
   "outputs": [],
   "source": []
  }
 ],
 "metadata": {
  "kernelspec": {
   "display_name": "Python 3",
   "language": "python",
   "name": "python3"
  },
  "language_info": {
   "codemirror_mode": {
    "name": "ipython",
    "version": 3
   },
   "file_extension": ".py",
   "mimetype": "text/x-python",
   "name": "python",
   "nbconvert_exporter": "python",
   "pygments_lexer": "ipython3",
   "version": "3.7.0"
  }
 },
 "nbformat": 4,
 "nbformat_minor": 2
}
