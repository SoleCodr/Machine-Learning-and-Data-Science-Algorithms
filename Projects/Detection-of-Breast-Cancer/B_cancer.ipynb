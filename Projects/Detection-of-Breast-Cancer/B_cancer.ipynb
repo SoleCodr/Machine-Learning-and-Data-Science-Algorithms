{
 "cells": [
  {
   "cell_type": "code",
   "execution_count": 1,
   "metadata": {},
   "outputs": [],
   "source": [
    "import pandas as pd\n",
    "import matplotlib.pyplot as plt\n",
    "import numpy as np\n",
    "import seaborn as sns\n",
    "from sklearn.model_selection import train_test_split\n",
    "from sklearn.svm import SVC\n",
    "from sklearn.metrics import accuracy_score"
   ]
  },
  {
   "cell_type": "code",
   "execution_count": 2,
   "metadata": {},
   "outputs": [
    {
     "data": {
      "text/html": [
       "<div>\n",
       "<style scoped>\n",
       "    .dataframe tbody tr th:only-of-type {\n",
       "        vertical-align: middle;\n",
       "    }\n",
       "\n",
       "    .dataframe tbody tr th {\n",
       "        vertical-align: top;\n",
       "    }\n",
       "\n",
       "    .dataframe thead th {\n",
       "        text-align: right;\n",
       "    }\n",
       "</style>\n",
       "<table border=\"1\" class=\"dataframe\">\n",
       "  <thead>\n",
       "    <tr style=\"text-align: right;\">\n",
       "      <th></th>\n",
       "      <th>ID</th>\n",
       "      <th>tumor_thickness</th>\n",
       "      <th>regularity_of_cell_size</th>\n",
       "      <th>regularity_of_cell_shape</th>\n",
       "      <th>cell_stickiness</th>\n",
       "      <th>non_cytoplasm_nuclei</th>\n",
       "      <th>nucleus_texture</th>\n",
       "      <th>small_structures_in_nucleoli</th>\n",
       "      <th>cell_proliferation</th>\n",
       "      <th>cell_uniformity</th>\n",
       "      <th>tumor_type</th>\n",
       "      <th>SVM_Classifier</th>\n",
       "    </tr>\n",
       "  </thead>\n",
       "  <tbody>\n",
       "    <tr>\n",
       "      <td>0</td>\n",
       "      <td>1000025</td>\n",
       "      <td>5</td>\n",
       "      <td>1</td>\n",
       "      <td>1</td>\n",
       "      <td>1</td>\n",
       "      <td>2</td>\n",
       "      <td>1</td>\n",
       "      <td>3</td>\n",
       "      <td>1</td>\n",
       "      <td>1</td>\n",
       "      <td>0</td>\n",
       "      <td>0</td>\n",
       "    </tr>\n",
       "    <tr>\n",
       "      <td>1</td>\n",
       "      <td>1002945</td>\n",
       "      <td>5</td>\n",
       "      <td>4</td>\n",
       "      <td>4</td>\n",
       "      <td>5</td>\n",
       "      <td>7</td>\n",
       "      <td>10</td>\n",
       "      <td>3</td>\n",
       "      <td>2</td>\n",
       "      <td>1</td>\n",
       "      <td>0</td>\n",
       "      <td>1</td>\n",
       "    </tr>\n",
       "    <tr>\n",
       "      <td>2</td>\n",
       "      <td>1015425</td>\n",
       "      <td>3</td>\n",
       "      <td>1</td>\n",
       "      <td>1</td>\n",
       "      <td>1</td>\n",
       "      <td>2</td>\n",
       "      <td>2</td>\n",
       "      <td>3</td>\n",
       "      <td>1</td>\n",
       "      <td>1</td>\n",
       "      <td>0</td>\n",
       "      <td>0</td>\n",
       "    </tr>\n",
       "    <tr>\n",
       "      <td>3</td>\n",
       "      <td>1016277</td>\n",
       "      <td>6</td>\n",
       "      <td>8</td>\n",
       "      <td>8</td>\n",
       "      <td>1</td>\n",
       "      <td>3</td>\n",
       "      <td>4</td>\n",
       "      <td>3</td>\n",
       "      <td>7</td>\n",
       "      <td>1</td>\n",
       "      <td>0</td>\n",
       "      <td>1</td>\n",
       "    </tr>\n",
       "    <tr>\n",
       "      <td>4</td>\n",
       "      <td>1017023</td>\n",
       "      <td>4</td>\n",
       "      <td>1</td>\n",
       "      <td>1</td>\n",
       "      <td>3</td>\n",
       "      <td>2</td>\n",
       "      <td>1</td>\n",
       "      <td>3</td>\n",
       "      <td>1</td>\n",
       "      <td>1</td>\n",
       "      <td>0</td>\n",
       "      <td>0</td>\n",
       "    </tr>\n",
       "  </tbody>\n",
       "</table>\n",
       "</div>"
      ],
      "text/plain": [
       "        ID  tumor_thickness  regularity_of_cell_size  \\\n",
       "0  1000025                5                        1   \n",
       "1  1002945                5                        4   \n",
       "2  1015425                3                        1   \n",
       "3  1016277                6                        8   \n",
       "4  1017023                4                        1   \n",
       "\n",
       "   regularity_of_cell_shape  cell_stickiness  non_cytoplasm_nuclei  \\\n",
       "0                         1                1                     2   \n",
       "1                         4                5                     7   \n",
       "2                         1                1                     2   \n",
       "3                         8                1                     3   \n",
       "4                         1                3                     2   \n",
       "\n",
       "   nucleus_texture  small_structures_in_nucleoli  cell_proliferation  \\\n",
       "0                1                             3                   1   \n",
       "1               10                             3                   2   \n",
       "2                2                             3                   1   \n",
       "3                4                             3                   7   \n",
       "4                1                             3                   1   \n",
       "\n",
       "   cell_uniformity  tumor_type  SVM_Classifier  \n",
       "0                1           0               0  \n",
       "1                1           0               1  \n",
       "2                1           0               0  \n",
       "3                1           0               1  \n",
       "4                1           0               0  "
      ]
     },
     "execution_count": 2,
     "metadata": {},
     "output_type": "execute_result"
    }
   ],
   "source": [
    "df= pd.read_csv(\"aa.txt\", sep = \";\")\n",
    "df.head()"
   ]
  },
  {
   "cell_type": "code",
   "execution_count": 3,
   "metadata": {},
   "outputs": [
    {
     "name": "stderr",
     "output_type": "stream",
     "text": [
      "C:\\WPy64-3741\\python-3.7.4.amd64\\lib\\site-packages\\pandas\\plotting\\_matplotlib\\tools.py:307: MatplotlibDeprecationWarning: \n",
      "The rowNum attribute was deprecated in Matplotlib 3.2 and will be removed two minor releases later. Use ax.get_subplotspec().rowspan.start instead.\n",
      "  layout[ax.rowNum, ax.colNum] = ax.get_visible()\n",
      "C:\\WPy64-3741\\python-3.7.4.amd64\\lib\\site-packages\\pandas\\plotting\\_matplotlib\\tools.py:307: MatplotlibDeprecationWarning: \n",
      "The colNum attribute was deprecated in Matplotlib 3.2 and will be removed two minor releases later. Use ax.get_subplotspec().colspan.start instead.\n",
      "  layout[ax.rowNum, ax.colNum] = ax.get_visible()\n",
      "C:\\WPy64-3741\\python-3.7.4.amd64\\lib\\site-packages\\pandas\\plotting\\_matplotlib\\tools.py:313: MatplotlibDeprecationWarning: \n",
      "The rowNum attribute was deprecated in Matplotlib 3.2 and will be removed two minor releases later. Use ax.get_subplotspec().rowspan.start instead.\n",
      "  if not layout[ax.rowNum + 1, ax.colNum]:\n",
      "C:\\WPy64-3741\\python-3.7.4.amd64\\lib\\site-packages\\pandas\\plotting\\_matplotlib\\tools.py:313: MatplotlibDeprecationWarning: \n",
      "The colNum attribute was deprecated in Matplotlib 3.2 and will be removed two minor releases later. Use ax.get_subplotspec().colspan.start instead.\n",
      "  if not layout[ax.rowNum + 1, ax.colNum]:\n"
     ]
    },
    {
     "data": {
      "text/plain": [
       "array([[<matplotlib.axes._subplots.AxesSubplot object at 0x00000194B352CB48>,\n",
       "        <matplotlib.axes._subplots.AxesSubplot object at 0x00000194B3C2B888>,\n",
       "        <matplotlib.axes._subplots.AxesSubplot object at 0x00000194B3C68708>],\n",
       "       [<matplotlib.axes._subplots.AxesSubplot object at 0x00000194B3CA05C8>,\n",
       "        <matplotlib.axes._subplots.AxesSubplot object at 0x00000194B3CDA3C8>,\n",
       "        <matplotlib.axes._subplots.AxesSubplot object at 0x00000194B3D0AE88>],\n",
       "       [<matplotlib.axes._subplots.AxesSubplot object at 0x00000194B3D42D48>,\n",
       "        <matplotlib.axes._subplots.AxesSubplot object at 0x00000194B3D7CA88>,\n",
       "        <matplotlib.axes._subplots.AxesSubplot object at 0x00000194B3D7CC88>],\n",
       "       [<matplotlib.axes._subplots.AxesSubplot object at 0x00000194B3DB5C08>,\n",
       "        <matplotlib.axes._subplots.AxesSubplot object at 0x00000194B3E27748>,\n",
       "        <matplotlib.axes._subplots.AxesSubplot object at 0x00000194B3E615C8>]],\n",
       "      dtype=object)"
      ]
     },
     "execution_count": 3,
     "metadata": {},
     "output_type": "execute_result"
    },
    {
     "data": {
      "image/png": "[encoded data removed]",
      "text/plain": [
       "<Figure size 1440x1080 with 12 Axes>"
      ]
     },
     "metadata": {
      "needs_background": "light"
     },
     "output_type": "display_data"
    }
   ],
   "source": [
    "df.drop('ID',1).hist(figsize=(20,15))"
   ]
  },
  {
   "cell_type": "code",
   "execution_count": 4,
   "metadata": {},
   "outputs": [
    {
     "name": "stdout",
     "output_type": "stream",
     "text": [
      "<class 'pandas.core.frame.DataFrame'>\n",
      "RangeIndex: 645 entries, 0 to 644\n",
      "Data columns (total 12 columns):\n",
      "ID                              645 non-null int64\n",
      "tumor_thickness                 645 non-null int64\n",
      "regularity_of_cell_size         645 non-null int64\n",
      "regularity_of_cell_shape        645 non-null int64\n",
      "cell_stickiness                 645 non-null int64\n",
      "non_cytoplasm_nuclei            645 non-null int64\n",
      "nucleus_texture                 645 non-null int64\n",
      "small_structures_in_nucleoli    645 non-null int64\n",
      "cell_proliferation              645 non-null int64\n",
      "cell_uniformity                 645 non-null int64\n",
      "tumor_type                      645 non-null int64\n",
      "SVM_Classifier                  645 non-null int64\n",
      "dtypes: int64(12)\n",
      "memory usage: 60.6 KB\n"
     ]
    }
   ],
   "source": [
    "df.info()"
   ]
  },
  {
   "cell_type": "code",
   "execution_count": 5,
   "metadata": {},
   "outputs": [],
   "source": [
    "df1 = df.drop('SVM_Classifier',axis=1)\n",
    "target = df['SVM_Classifier']\n",
    "x,tx,y,ty = train_test_split(df1,target,test_size=0.3,random_state=0)"
   ]
  },
  {
   "cell_type": "code",
   "execution_count": 6,
   "metadata": {},
   "outputs": [
    {
     "data": {
      "text/plain": [
       "((451, 11), (451,), (194, 11), (194,))"
      ]
     },
     "execution_count": 6,
     "metadata": {},
     "output_type": "execute_result"
    }
   ],
   "source": [
    "x.shape,y.shape,tx.shape,ty.shape"
   ]
  },
  {
   "cell_type": "code",
   "execution_count": 7,
   "metadata": {},
   "outputs": [
    {
     "data": {
      "text/plain": [
       "65.98"
      ]
     },
     "execution_count": 7,
     "metadata": {},
     "output_type": "execute_result"
    }
   ],
   "source": [
    "model = SVC()\n",
    "model.fit(x,y)\n",
    "\n",
    "pred = model.predict(tx)\n",
    "round(accuracy_score(pred,ty)*100,2)\n"
   ]
  }
 ],
 "metadata": {
  "kernelspec": {
   "display_name": "Python 3",
   "language": "python",
   "name": "python3"
  },
  "language_info": {
   "codemirror_mode": {
    "name": "ipython",
    "version": 3
   },
   "file_extension": ".py",
   "mimetype": "text/x-python",
   "name": "python",
   "nbconvert_exporter": "python",
   "pygments_lexer": "ipython3",
   "version": "3.7.4"
  }
 },
 "nbformat": 4,
 "nbformat_minor": 4
}
